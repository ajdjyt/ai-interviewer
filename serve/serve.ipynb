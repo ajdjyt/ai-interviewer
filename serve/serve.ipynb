{
 "cells": [
  {
   "cell_type": "code",
   "execution_count": 1,
   "metadata": {},
   "outputs": [
    {
     "name": "stdout",
     "output_type": "stream",
     "text": [
      "Note: you may need to restart the kernel to use updated packages.\n"
     ]
    }
   ],
   "source": [
    "%pip install -qU fastapi uvicorn aiortc"
   ]
  },
  {
   "cell_type": "markdown",
   "metadata": {},
   "source": [
    "To make fastapi run in jupyter"
   ]
  },
  {
   "cell_type": "code",
   "execution_count": 2,
   "metadata": {},
   "outputs": [],
   "source": [
    "import nest_asyncio\n",
    "nest_asyncio.apply()"
   ]
  },
  {
   "cell_type": "code",
   "execution_count": 3,
   "metadata": {},
   "outputs": [],
   "source": [
    "from fastapi import FastAPI, Request\n",
    "from fastapi.middleware.cors import CORSMiddleware\n",
    "from aiortc import RTCPeerConnection, RTCSessionDescription\n",
    "from aiortc.contrib.media import MediaPlayer, MediaRelay"
   ]
  },
  {
   "cell_type": "code",
   "execution_count": null,
   "metadata": {},
   "outputs": [],
   "source": [
    "app = FastAPI()\n",
    "\n",
    "app.add_middleware(\n",
    "    CORSMiddleware,\n",
    "    allow_origins=[\"*\"],\n",
    "    allow_credentials=True,\n",
    "    allow_methods=[\"*\"],  # Allow all HTTP methods\n",
    "    allow_headers=[\"*\"]   # Allow all headers\n",
    ")\n",
    "\n",
    "relay = MediaRelay()\n",
    "pc = RTCPeerConnection()"
   ]
  },
  {
   "cell_type": "code",
   "execution_count": 5,
   "metadata": {},
   "outputs": [],
   "source": [
    "@app.post(\"/api/webrtc/offer\")\n",
    "async def webrtc_offer(request: Request):\n",
    "    data = await request.json()\n",
    "    offer = data.get(\"sdp\")\n",
    "\n",
    "    # Set the remote SDP (offer)\n",
    "    await pc.setRemoteDescription(RTCSessionDescription(sdp=offer, type=\"offer\"))\n",
    "\n",
    "    # Add media processing logic here if needed\n",
    "    @pc.on(\"track\")\n",
    "    async def on_track(track):\n",
    "        print(f\"Received track: {track.kind}\")\n",
    "        if track.kind == \"audio\":\n",
    "            player = MediaPlayer(track)\n",
    "            relay.subscribe(player)\n",
    "\n",
    "    # Create an SDP answer\n",
    "    answer = await pc.createAnswer()\n",
    "    await pc.setLocalDescription(answer)\n",
    "\n",
    "    return {\"answer\": pc.localDescription.sdp}"
   ]
  },
  {
   "cell_type": "code",
   "execution_count": 6,
   "metadata": {},
   "outputs": [
    {
     "name": "stderr",
     "output_type": "stream",
     "text": [
      "INFO:     Started server process [640089]\n",
      "INFO:     Waiting for application startup.\n",
      "INFO:     Application startup complete.\n",
      "INFO:     Uvicorn running on http://0.0.0.0:8000 (Press CTRL+C to quit)\n"
     ]
    },
    {
     "name": "stdout",
     "output_type": "stream",
     "text": [
      "INFO:     127.0.0.1:38748 - \"OPTIONS /api/webrtc/offer HTTP/1.1\" 200 OK\n",
      "INFO:     127.0.0.1:38748 - \"POST /api/webrtc/offer HTTP/1.1\" 200 OK\n"
     ]
    },
    {
     "name": "stderr",
     "output_type": "stream",
     "text": [
      "INFO:     Shutting down\n",
      "INFO:     Waiting for application shutdown.\n",
      "INFO:     Application shutdown complete.\n",
      "INFO:     Finished server process [640089]\n"
     ]
    }
   ],
   "source": [
    "if __name__ == \"__main__\":\n",
    "    import uvicorn\n",
    "    uvicorn.run(app, host=\"0.0.0.0\", port=8000)"
   ]
  }
 ],
 "metadata": {
  "kernelspec": {
   "display_name": "Python 3",
   "language": "python",
   "name": "python3"
  },
  "language_info": {
   "codemirror_mode": {
    "name": "ipython",
    "version": 3
   },
   "file_extension": ".py",
   "mimetype": "text/x-python",
   "name": "python",
   "nbconvert_exporter": "python",
   "pygments_lexer": "ipython3",
   "version": "3.12.7"
  }
 },
 "nbformat": 4,
 "nbformat_minor": 2
}
